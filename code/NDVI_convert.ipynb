{
 "cells": [
  {
   "cell_type": "code",
   "execution_count": 15,
   "id": "cc063410-3d75-4323-9e7d-0669e73e73f0",
   "metadata": {},
   "outputs": [],
   "source": [
    "import pandas as pd\n",
    "import numpy as np\n",
    "import matplotlib.pyplot as plt\n",
    "from scipy.special import expit  # Sigmoid function\n",
    "\n",
    "def sigmoid_interpolation(start, end, steps):\n",
    "    \"\"\"\n",
    "    Interpolates between start and end values using a sigmoid function over a specified number of steps.\n",
    "    \"\"\"\n",
    "    x = np.linspace(-6, 6, steps)  # Range chosen to cover the significant transition of the sigmoid curve\n",
    "    y = expit(x)  # Sigmoid function\n",
    "    interpolated_values = start + (end - start) * y\n",
    "    return interpolated_values"
   ]
  },
  {
   "cell_type": "code",
   "execution_count": 16,
   "id": "5fc46df3-c2a4-4e0c-a3ba-c531ebb01606",
   "metadata": {},
   "outputs": [
    {
     "data": {
      "text/html": [
       "<div>\n",
       "<style scoped>\n",
       "    .dataframe tbody tr th:only-of-type {\n",
       "        vertical-align: middle;\n",
       "    }\n",
       "\n",
       "    .dataframe tbody tr th {\n",
       "        vertical-align: top;\n",
       "    }\n",
       "\n",
       "    .dataframe thead th {\n",
       "        text-align: right;\n",
       "    }\n",
       "</style>\n",
       "<table border=\"1\" class=\"dataframe\">\n",
       "  <thead>\n",
       "    <tr style=\"text-align: right;\">\n",
       "      <th></th>\n",
       "      <th>system:time_start</th>\n",
       "      <th>NDVI</th>\n",
       "      <th>fitted</th>\n",
       "      <th>timestamp</th>\n",
       "    </tr>\n",
       "  </thead>\n",
       "  <tbody>\n",
       "    <tr>\n",
       "      <th>0</th>\n",
       "      <td>Jun 28, 2022</td>\n",
       "      <td>0.709</td>\n",
       "      <td>0.696</td>\n",
       "      <td>2022-06-28</td>\n",
       "    </tr>\n",
       "    <tr>\n",
       "      <th>1</th>\n",
       "      <td>Jul 5, 2022</td>\n",
       "      <td>0.709</td>\n",
       "      <td>0.697</td>\n",
       "      <td>2022-07-05</td>\n",
       "    </tr>\n",
       "    <tr>\n",
       "      <th>2</th>\n",
       "      <td>Jul 5, 2022</td>\n",
       "      <td>0.709</td>\n",
       "      <td>0.697</td>\n",
       "      <td>2022-07-05</td>\n",
       "    </tr>\n",
       "    <tr>\n",
       "      <th>3</th>\n",
       "      <td>Jul 14, 2022</td>\n",
       "      <td>0.689</td>\n",
       "      <td>0.697</td>\n",
       "      <td>2022-07-14</td>\n",
       "    </tr>\n",
       "    <tr>\n",
       "      <th>4</th>\n",
       "      <td>Jul 21, 2022</td>\n",
       "      <td>0.687</td>\n",
       "      <td>0.696</td>\n",
       "      <td>2022-07-21</td>\n",
       "    </tr>\n",
       "  </tbody>\n",
       "</table>\n",
       "</div>"
      ],
      "text/plain": [
       "  system:time_start   NDVI  fitted  timestamp\n",
       "0      Jun 28, 2022  0.709   0.696 2022-06-28\n",
       "1       Jul 5, 2022  0.709   0.697 2022-07-05\n",
       "2       Jul 5, 2022  0.709   0.697 2022-07-05\n",
       "3      Jul 14, 2022  0.689   0.697 2022-07-14\n",
       "4      Jul 21, 2022  0.687   0.696 2022-07-21"
      ]
     },
     "execution_count": 16,
     "metadata": {},
     "output_type": "execute_result"
    }
   ],
   "source": [
    "filepath = \"../data/muir-woods-ndvi-ee-chart.csv\"\n",
    "ndvi = pd.read_csv(filepath)\n",
    "ndvi = ndvi.ffill()\n",
    "ndvi[\"timestamp\"] = pd.to_datetime(ndvi[\"system:time_start\"])\n",
    "#ndvi = ch01[[\"CH1\", \"timestamp\"]]\n",
    "ndvi.head()"
   ]
  },
  {
   "cell_type": "code",
   "execution_count": 17,
   "id": "48fb2690-db33-4953-8fff-bbe7396127e1",
   "metadata": {},
   "outputs": [
    {
     "data": {
      "text/html": [
       "<div>\n",
       "<style scoped>\n",
       "    .dataframe tbody tr th:only-of-type {\n",
       "        vertical-align: middle;\n",
       "    }\n",
       "\n",
       "    .dataframe tbody tr th {\n",
       "        vertical-align: top;\n",
       "    }\n",
       "\n",
       "    .dataframe thead th {\n",
       "        text-align: right;\n",
       "    }\n",
       "</style>\n",
       "<table border=\"1\" class=\"dataframe\">\n",
       "  <thead>\n",
       "    <tr style=\"text-align: right;\">\n",
       "      <th></th>\n",
       "      <th>system:time_start</th>\n",
       "      <th>NDVI</th>\n",
       "      <th>fitted</th>\n",
       "      <th>NDVI_normalized</th>\n",
       "    </tr>\n",
       "    <tr>\n",
       "      <th>timestamp</th>\n",
       "      <th></th>\n",
       "      <th></th>\n",
       "      <th></th>\n",
       "      <th></th>\n",
       "    </tr>\n",
       "  </thead>\n",
       "  <tbody>\n",
       "    <tr>\n",
       "      <th>2022-06-28</th>\n",
       "      <td>Jun 28, 2022</td>\n",
       "      <td>0.709</td>\n",
       "      <td>0.696</td>\n",
       "      <td>0.924242</td>\n",
       "    </tr>\n",
       "    <tr>\n",
       "      <th>2022-07-05</th>\n",
       "      <td>Jul 5, 2022</td>\n",
       "      <td>0.709</td>\n",
       "      <td>0.697</td>\n",
       "      <td>0.931818</td>\n",
       "    </tr>\n",
       "    <tr>\n",
       "      <th>2022-07-05</th>\n",
       "      <td>Jul 5, 2022</td>\n",
       "      <td>0.709</td>\n",
       "      <td>0.697</td>\n",
       "      <td>0.931818</td>\n",
       "    </tr>\n",
       "    <tr>\n",
       "      <th>2022-07-14</th>\n",
       "      <td>Jul 14, 2022</td>\n",
       "      <td>0.689</td>\n",
       "      <td>0.697</td>\n",
       "      <td>0.931818</td>\n",
       "    </tr>\n",
       "    <tr>\n",
       "      <th>2022-07-21</th>\n",
       "      <td>Jul 21, 2022</td>\n",
       "      <td>0.687</td>\n",
       "      <td>0.696</td>\n",
       "      <td>0.924242</td>\n",
       "    </tr>\n",
       "  </tbody>\n",
       "</table>\n",
       "</div>"
      ],
      "text/plain": [
       "           system:time_start   NDVI  fitted  NDVI_normalized\n",
       "timestamp                                                   \n",
       "2022-06-28      Jun 28, 2022  0.709   0.696         0.924242\n",
       "2022-07-05       Jul 5, 2022  0.709   0.697         0.931818\n",
       "2022-07-05       Jul 5, 2022  0.709   0.697         0.931818\n",
       "2022-07-14      Jul 14, 2022  0.689   0.697         0.931818\n",
       "2022-07-21      Jul 21, 2022  0.687   0.696         0.924242"
      ]
     },
     "execution_count": 17,
     "metadata": {},
     "output_type": "execute_result"
    }
   ],
   "source": [
    "# Normalize each column to the range [0, 1]\n",
    "ndvi[\"NDVI_normalized\"] = (ndvi[\"fitted\"] - ndvi[\"fitted\"].min()) / (ndvi[\"fitted\"].max() - ndvi[\"fitted\"].min())\n",
    "ndvi.set_index(\"timestamp\", inplace=True)\n",
    "ndvi.head()"
   ]
  },
  {
   "cell_type": "code",
   "execution_count": 22,
   "id": "5bdf79f9-1bf6-4a58-ae3e-a90cb01f0ea9",
   "metadata": {},
   "outputs": [
    {
     "data": {
      "text/plain": [
       "system:time_start     object\n",
       "NDVI                 float64\n",
       "fitted               float64\n",
       "NDVI_normalized      float64\n",
       "dtype: object"
      ]
     },
     "execution_count": 22,
     "metadata": {},
     "output_type": "execute_result"
    }
   ],
   "source": [
    "ndvi.dtypes"
   ]
  },
  {
   "cell_type": "code",
   "execution_count": 19,
   "id": "daa8e814-e612-4b08-96b9-14261f859ee3",
   "metadata": {},
   "outputs": [
    {
     "data": {
      "image/png": "[encoded data removed]",
      "text/plain": [
       "<Figure size 1500x500 with 1 Axes>"
      ]
     },
     "metadata": {},
     "output_type": "display_data"
    }
   ],
   "source": [
    "# Plotting\n",
    "plt.figure(figsize=(15, 5))\n",
    "plt.plot(ndvi.index, ndvi[\"NDVI_normalized\"], color=\"dodgerblue\", label=\"NDVI\")\n",
    "plt.legend(loc='upper left')\n",
    "plt.xlabel('Date', color='grey')\n",
    "plt.ylabel('0.1-50 nm', color='grey')\n",
    "plt.title('SOHO radiation', color='grey')\n",
    "plt.legend(loc='upper left')\n",
    "plt.savefig(\"../img/soho.png\")\n",
    "plt.show()"
   ]
  },
  {
   "cell_type": "code",
   "execution_count": 20,
   "id": "e1f94b8d-5757-40af-92e2-cf2e5aebc97e",
   "metadata": {},
   "outputs": [],
   "source": [
    "# Define the desired frequency for resampling\n",
    "desired_freq = '30min'  # 30-minute intervals\n",
    "\n",
    "# Initialize an empty DataFrame to hold interpolated data\n",
    "interpolated_data = pd.DataFrame()\n"
   ]
  },
  {
   "cell_type": "code",
   "execution_count": 23,
   "id": "22b3ad2b-e690-45c2-bdcd-bb18180fd250",
   "metadata": {},
   "outputs": [
    {
     "name": "stderr",
     "output_type": "stream",
     "text": [
      "/var/folders/ww/rg8zlhq16mqg0kz1wk66r9b00000gn/T/ipykernel_49715/3853737914.py:33: FutureWarning: The behavior of array concatenation with empty entries is deprecated. In a future version, this will no longer exclude empty items when determining the result dtype. To retain the old behavior, exclude the empty entries before the concat operation.\n",
      "  interpolated_series = pd.concat([interpolated_series, temp_series])\n",
      "/var/folders/ww/rg8zlhq16mqg0kz1wk66r9b00000gn/T/ipykernel_49715/3853737914.py:33: FutureWarning: The behavior of array concatenation with empty entries is deprecated. In a future version, this will no longer exclude empty items when determining the result dtype. To retain the old behavior, exclude the empty entries before the concat operation.\n",
      "  interpolated_series = pd.concat([interpolated_series, temp_series])\n",
      "/var/folders/ww/rg8zlhq16mqg0kz1wk66r9b00000gn/T/ipykernel_49715/3853737914.py:33: FutureWarning: The behavior of array concatenation with empty entries is deprecated. In a future version, this will no longer exclude empty items when determining the result dtype. To retain the old behavior, exclude the empty entries before the concat operation.\n",
      "  interpolated_series = pd.concat([interpolated_series, temp_series])\n"
     ]
    },
    {
     "data": {
      "text/html": [
       "<div>\n",
       "<style scoped>\n",
       "    .dataframe tbody tr th:only-of-type {\n",
       "        vertical-align: middle;\n",
       "    }\n",
       "\n",
       "    .dataframe tbody tr th {\n",
       "        vertical-align: top;\n",
       "    }\n",
       "\n",
       "    .dataframe thead th {\n",
       "        text-align: right;\n",
       "    }\n",
       "</style>\n",
       "<table border=\"1\" class=\"dataframe\">\n",
       "  <thead>\n",
       "    <tr style=\"text-align: right;\">\n",
       "      <th></th>\n",
       "      <th>system:time_start</th>\n",
       "      <th>NDVI</th>\n",
       "      <th>fitted</th>\n",
       "      <th>NDVI_normalized</th>\n",
       "    </tr>\n",
       "  </thead>\n",
       "  <tbody>\n",
       "    <tr>\n",
       "      <th>2024-06-20 18:30:00</th>\n",
       "      <td>NaN</td>\n",
       "      <td>0.718</td>\n",
       "      <td>0.706</td>\n",
       "      <td>1.0</td>\n",
       "    </tr>\n",
       "    <tr>\n",
       "      <th>2024-06-20 19:00:00</th>\n",
       "      <td>NaN</td>\n",
       "      <td>0.718</td>\n",
       "      <td>0.706</td>\n",
       "      <td>1.0</td>\n",
       "    </tr>\n",
       "    <tr>\n",
       "      <th>2024-06-20 19:30:00</th>\n",
       "      <td>NaN</td>\n",
       "      <td>0.718</td>\n",
       "      <td>0.706</td>\n",
       "      <td>1.0</td>\n",
       "    </tr>\n",
       "    <tr>\n",
       "      <th>2024-06-20 20:00:00</th>\n",
       "      <td>NaN</td>\n",
       "      <td>0.718</td>\n",
       "      <td>0.706</td>\n",
       "      <td>1.0</td>\n",
       "    </tr>\n",
       "    <tr>\n",
       "      <th>2024-06-20 20:30:00</th>\n",
       "      <td>NaN</td>\n",
       "      <td>0.718</td>\n",
       "      <td>0.706</td>\n",
       "      <td>1.0</td>\n",
       "    </tr>\n",
       "  </tbody>\n",
       "</table>\n",
       "</div>"
      ],
      "text/plain": [
       "                     system:time_start   NDVI  fitted  NDVI_normalized\n",
       "2024-06-20 18:30:00                NaN  0.718   0.706              1.0\n",
       "2024-06-20 19:00:00                NaN  0.718   0.706              1.0\n",
       "2024-06-20 19:30:00                NaN  0.718   0.706              1.0\n",
       "2024-06-20 20:00:00                NaN  0.718   0.706              1.0\n",
       "2024-06-20 20:30:00                NaN  0.718   0.706              1.0"
      ]
     },
     "execution_count": 23,
     "metadata": {},
     "output_type": "execute_result"
    }
   ],
   "source": [
    "# Process each column separately\n",
    "for column in ndvi.columns:\n",
    "    # Drop NaN values to work with actual data points\n",
    "    data = ndvi[column].dropna()\n",
    "\n",
    "    # Convert data to numeric, handling non-numeric values as NaN\n",
    "    data = pd.to_numeric(data, errors='coerce').dropna()\n",
    "\n",
    "    # Create a new Series to hold the interpolated series\n",
    "    interpolated_series = pd.Series(dtype=float)\n",
    "\n",
    "    # Iterate over each pair of consecutive data points\n",
    "    for i in range(len(data) - 1):\n",
    "        start_time = data.index[i]\n",
    "        end_time = data.index[i + 1]\n",
    "        start_value = data.iloc[i]\n",
    "        end_value = data.iloc[i + 1]\n",
    "\n",
    "        # Ensure start_value and end_value are numeric\n",
    "        if isinstance(start_value, str) or isinstance(end_value, str):\n",
    "            continue  # Skip interpolation if values are non-numeric\n",
    "\n",
    "        # Generate timestamps between start and end at the desired frequency\n",
    "        timestamps = pd.date_range(start=start_time, end=end_time, freq=desired_freq)[1:-1]\n",
    "\n",
    "        # Perform sigmoid interpolation\n",
    "        interpolated_values = sigmoid_interpolation(float(start_value), float(end_value), len(timestamps))\n",
    "\n",
    "        # Create a temporary series with interpolated values\n",
    "        temp_series = pd.Series(interpolated_values, index=timestamps)\n",
    "\n",
    "        # Concatenate the temporary series to the interpolated series\n",
    "        interpolated_series = pd.concat([interpolated_series, temp_series])\n",
    "\n",
    "    # Combine with original data\n",
    "    interpolated_series = pd.concat([interpolated_series, data])\n",
    "\n",
    "    # Sort the index to maintain chronological order\n",
    "    interpolated_series = interpolated_series.sort_index()\n",
    "\n",
    "    # Add the interpolated series to the DataFrame\n",
    "    interpolated_data[column] = interpolated_series\n",
    "\n",
    "# Resample the interpolated data to ensure consistent 30-minute intervals\n",
    "interpolated_data = interpolated_data.resample(desired_freq).mean()\n",
    "\n",
    "# Forward-fill any remaining NaN values\n",
    "interpolated_data = interpolated_data.ffill()\n",
    "\n",
    "# Define the start and end dates for trimming\n",
    "start_date = pd.Timestamp(\"2023-06-21 15:00:00\")\n",
    "end_date = pd.Timestamp(\"2024-06-20 20:30:00\")\n",
    "\n",
    "# Ensure the end_date is included in the index\n",
    "if end_date not in interpolated_data.index:\n",
    "    # Add the end_date to the index with NaN values\n",
    "    interpolated_data.loc[end_date] = np.nan\n",
    "    # Sort the index to maintain chronological order\n",
    "    interpolated_data = interpolated_data.sort_index()\n",
    "    # Forward-fill the NaN value at end_date\n",
    "    interpolated_data = interpolated_data.ffill()\n",
    "\n",
    "# Trim the data to the specified date range\n",
    "trimmed_data = interpolated_data.loc[start_date:end_date]\n",
    "\n",
    "trimmed_data.tail()\n"
   ]
  },
  {
   "cell_type": "code",
   "execution_count": 27,
   "id": "6c81f5a1-9964-4b51-ad9b-0906ab6d94ee",
   "metadata": {
    "scrolled": true
   },
   "outputs": [
    {
     "data": {
      "image/png": "[encoded data removed]",
      "text/plain": [
       "<Figure size 1500x500 with 1 Axes>"
      ]
     },
     "metadata": {},
     "output_type": "display_data"
    }
   ],
   "source": [
    "# Plotting\n",
    "plt.figure(figsize=(15, 5))\n",
    "plt.plot(trimmed_data.index, trimmed_data[\"NDVI_normalized\"], color=\"dodgerblue\", label=\"NDVI\")\n",
    "plt.legend(loc='upper left')\n",
    "plt.xlabel('Date', color='grey')\n",
    "plt.ylabel('0.1-50 nm', color='grey')\n",
    "plt.title('SOHO radiation', color='grey')\n",
    "plt.legend(loc='upper left')\n",
    "plt.savefig(\"../img/soho.png\")\n",
    "plt.show()"
   ]
  },
  {
   "cell_type": "code",
   "execution_count": 25,
   "id": "d9c29e9c-56e6-4099-86ac-d4a45431e0d3",
   "metadata": {},
   "outputs": [],
   "source": [
    "trimmed_data.to_csv(\"../data/NDVI_muir.csv\")"
   ]
  },
  {
   "cell_type": "code",
   "execution_count": 26,
   "id": "f65cff4b-3e75-4d11-9469-3abc958db34c",
   "metadata": {},
   "outputs": [
    {
     "data": {
      "text/plain": [
       "(17532, 4)"
      ]
     },
     "execution_count": 26,
     "metadata": {},
     "output_type": "execute_result"
    }
   ],
   "source": [
    "trimmed_data.shape"
   ]
  },
  {
   "cell_type": "code",
   "execution_count": null,
   "id": "645d5476-40c4-44fa-bf97-def4137e0d3d",
   "metadata": {},
   "outputs": [],
   "source": []
  }
 ],
 "metadata": {
  "kernelspec": {
   "display_name": "Python 3 (ipykernel)",
   "language": "python",
   "name": "python3"
  },
  "language_info": {
   "codemirror_mode": {
    "name": "ipython",
    "version": 3
   },
   "file_extension": ".py",
   "mimetype": "text/x-python",
   "name": "python",
   "nbconvert_exporter": "python",
   "pygments_lexer": "ipython3",
   "version": "3.12.2"
  }
 },
 "nbformat": 4,
 "nbformat_minor": 5
}
